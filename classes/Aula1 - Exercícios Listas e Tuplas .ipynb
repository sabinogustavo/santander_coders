{
 "cells": [
  {
   "cell_type": "markdown",
   "metadata": {},
   "source": [
    "# Aula 1 | Exercícios de listas e tuplas"
   ]
  },
  {
   "cell_type": "markdown",
   "metadata": {},
   "source": [
    "### Questão 1\n",
    "Crie uma lista vazia chamada frutas. Adicione três frutas à lista e, em seguida, imprima a lista."
   ]
  },
  {
   "cell_type": "code",
   "execution_count": 1,
   "metadata": {},
   "outputs": [
    {
     "name": "stdout",
     "output_type": "stream",
     "text": [
      "['maçã', 'banana', 'limão']\n"
     ]
    }
   ],
   "source": [
    "lista_de_frutas = []\n",
    "lista_de_frutas.append('maçã')\n",
    "lista_de_frutas.append('banana')\n",
    "lista_de_frutas.append('limão')\n",
    "print(lista_de_frutas)"
   ]
  },
  {
   "cell_type": "markdown",
   "metadata": {},
   "source": [
    "### Questão 2\n",
    "\n",
    "Dada a lista numeros = [1, 2, 3, 4, 5], escreva um programa para calcular a soma de todos os números na lista."
   ]
  },
  {
   "cell_type": "code",
   "execution_count": 4,
   "metadata": {},
   "outputs": [
    {
     "name": "stdout",
     "output_type": "stream",
     "text": [
      "15\n"
     ]
    }
   ],
   "source": [
    "lista_de_numeros = [1,2,3,4,5]\n",
    "print(sum(lista_de_numeros))"
   ]
  },
  {
   "cell_type": "markdown",
   "metadata": {},
   "source": [
    "### Questão 3\n",
    "\n",
    "Crie uma tupla chamada meses contendo os nomes dos meses do ano. Peça ao usuário para digitar um número de 1 a 12 e imprima o mês correspondente. Lembre-se de tratar casos inválidos."
   ]
  },
  {
   "cell_type": "code",
   "execution_count": 8,
   "metadata": {},
   "outputs": [
    {
     "name": "stdout",
     "output_type": "stream",
     "text": [
      "fevereiro\n"
     ]
    }
   ],
   "source": [
    "meses = ('janeiro', 'fevereiro', 'março', 'abril', 'maio', 'junho', 'julho', 'agosto', 'setembro', 'outubro', 'novembro', 'dezembro')\n",
    "\n",
    "numero_do_mes = 0\n",
    "\n",
    "while numero_do_mes < 1 or numero_do_mes > 12:\n",
    "    numero_do_mes = int(input(\"por favor, insira um numero entre 1 e 12\"))\n",
    "\n",
    "print(meses[numero_do_mes-1])"
   ]
  },
  {
   "cell_type": "markdown",
   "metadata": {},
   "source": [
    "### Questão 4 \n",
    "\n",
    "Dada uma lista de números, crie uma nova lista chamada squared que contenha o quadrado de cada número da lista original."
   ]
  },
  {
   "cell_type": "code",
   "execution_count": 9,
   "metadata": {},
   "outputs": [
    {
     "name": "stdout",
     "output_type": "stream",
     "text": [
      "[1, 4, 9, 16, 25, 36, 49]\n"
     ]
    }
   ],
   "source": [
    "lista_original = [1,2,3,4,5,6,7]\n",
    "squared = []\n",
    "for i in lista_original:\n",
    "    squared.append(i**2)\n",
    "print(squared)"
   ]
  },
  {
   "cell_type": "markdown",
   "metadata": {},
   "source": [
    "### Questão 5\n",
    "\n",
    "Escreva um programa que recebe uma lista de palavras e retorna a lista apenas com as palavras que começam com a letra 'a'. Use uma função para fazer isso."
   ]
  },
  {
   "cell_type": "code",
   "execution_count": null,
   "metadata": {},
   "outputs": [],
   "source": [
    "def comeca_com_a(lista):\n",
    "    comeca_com_a = []\n",
    "    for palavra in lista:\n",
    "        if palavra[0] == 'a':\n",
    "            comeca_com_a.append(palavra)\n",
    "    return comeca_com_a\n",
    "\n",
    "lista_de_palavras = ['amor','vida','familia','rei','alimentacao']\n",
    "\n",
    "\n",
    "\n"
   ]
  },
  {
   "cell_type": "markdown",
   "metadata": {},
   "source": [
    "### Questão 6\n",
    "\n",
    "Considere a lista [(4, 5), (4, ), (8, 6, 7), (1, ), (3, 4, 6, 7)]. Faça um programa que remova as tuplas de tamanho k.  \n"
   ]
  }
 ],
 "metadata": {
  "kernelspec": {
   "display_name": "Python 3",
   "language": "python",
   "name": "python3"
  },
  "language_info": {
   "codemirror_mode": {
    "name": "ipython",
    "version": 3
   },
   "file_extension": ".py",
   "mimetype": "text/x-python",
   "name": "python",
   "nbconvert_exporter": "python",
   "pygments_lexer": "ipython3",
   "version": "3.11.4"
  }
 },
 "nbformat": 4,
 "nbformat_minor": 2
}
